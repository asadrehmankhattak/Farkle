{
  "nbformat": 4,
  "nbformat_minor": 0,
  "metadata": {
    "colab": {
      "provenance": []
    },
    "kernelspec": {
      "name": "python3",
      "display_name": "Python 3"
    },
    "language_info": {
      "name": "python"
    },
    "accelerator": "GPU",
    "gpuClass": "standard"
  },
  "cells": [
    {
      "cell_type": "markdown",
      "source": [
        "**Prepared and Maintained by [justinjohn-03](https://github.com/justinjohn0306/)**"
      ],
      "metadata": {
        "id": "maqWuu8w3dfc"
      }
    },
    {
      "cell_type": "code",
      "execution_count": null,
      "metadata": {
        "cellView": "form",
        "id": "45IpwJuQv19C"
      },
      "outputs": [],
      "source": [
        "#@markdown ### **🚀 Clone Repository and Install Requirements**\n",
        "from IPython.display import clear_output, display, HTML\n",
        "\n",
        "display(HTML('<font color=\"red\">Cloning video-retalking repository:</font>'))\n",
        "!git clone https://github.com/justinjohn0306/video-retalking\n",
        "%cd video-retalking\n",
        "clear_output()\n",
        "\n",
        "display(HTML('<font color=\"red\">Uninstalling existing gdown and reinstalling from source to avoid Google Drive download quota issues:</font>'))\n",
        "!pip uninstall gdown -y\n",
        "!pip install git+https://github.com/wkentaro/gdown.git\n",
        "clear_output()\n",
        "\n",
        "display(HTML('<font color=\"red\">Installing other project requirements:</font>'))\n",
        "!pip install -r requirements_colab.txt\n",
        "clear_output()\n",
        "\n",
        "display(HTML('<font color=\"red\">Now we are set up and ready to proceed!</font>'))"
      ]
    },
    {
      "cell_type": "code",
      "source": [
        "#@markdown ### **📥 Download the Pretrained Models**\n",
        "#@markdown The following code will download and unzip the pretrained models for this project:\n",
        "from IPython.display import clear_output, display, HTML\n",
        "%cd /content/video-retalking\n",
        "\n",
        "import gdown\n",
        "\n",
        "gdown.download(\"https://drive.google.com/uc?id=1Qtg-GVUKZ7aXtz-4O9Mm4ncXjEYRB8-p\", \"/content/checkpoints.zip\", quiet=False)\n",
        "!unzip -o /content/checkpoints.zip -d /content/video-retalking/\n",
        "!rm /content/checkpoints.zip\n",
        "clear_output()\n",
        "\n",
        "display(HTML('<font color=\"red\">Now you are ready to run the inference!</font>'))"
      ],
      "metadata": {
        "cellView": "form",
        "id": "MpsyVNqMw6RD"
      },
      "execution_count": null,
      "outputs": []
    },
    {
      "cell_type": "code",
      "source": [
        "import os\n",
        "from IPython.display import clear_output, display, HTML\n",
        "\n",
        "#@markdown ### **🚀 Set up Files for Inference**\n",
        "\n",
        "#@markdown Enter the path to your face video file:\n",
        "face_video = 'examples/face/1.mp4'  #@param {type:\"string\"}\n",
        "\n",
        "#@markdown Enter the path to your audio input file:\n",
        "audio_input = 'examples/audio/1.wav'  #@param {type:\"string\"}\n",
        "\n",
        "#@markdown Enter the path where you want the output file to be saved:\n",
        "output_file = 'results/1_1.mp4'  #@param {type:\"string\"}\n",
        "\n",
        "assert os.path.exists(face_video), f\"Face video file not found: {face_video}\"\n",
        "assert os.path.exists(audio_input), f\"Audio input file not found: {audio_input}\"\n",
        "\n",
        "#@markdown Once your files are set, you can run the inference:\n",
        "display(HTML('<font color=\"red\">Running the inference...</font>'))\n",
        "!python3 inference.py --face $face_video --audio $audio_input --outfile $output_file\n"
      ],
      "metadata": {
        "cellView": "form",
        "id": "dGElchpX1p_i"
      },
      "execution_count": null,
      "outputs": []
    },
    {
      "cell_type": "code",
      "source": [
        "\n",
        "#@markdown ### **🎞️ View the Result Video**\n",
        "#@markdown After running the inference, you can view the output video directly in your browser:\n",
        "\n",
        "from IPython.display import HTML\n",
        "from base64 import b64encode\n",
        "\n",
        "mp4 = open(output_file,'rb').read()\n",
        "data_url = \"data:video/mp4;base64,\" + b64encode(mp4).decode()\n",
        "\n",
        "HTML(\"\"\"\n",
        "<video width=400 controls>\n",
        "      <source src=\"%s\" type=\"video/mp4\">\n",
        "</video>\n",
        "\"\"\" % data_url)\n"
      ],
      "metadata": {
        "cellView": "form",
        "id": "49cunETU07_V"
      },
      "execution_count": null,
      "outputs": []
    }
  ]
}